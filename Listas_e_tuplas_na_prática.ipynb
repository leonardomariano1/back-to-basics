{
  "cells": [
    {
      "cell_type": "markdown",
      "metadata": {
        "id": "view-in-github",
        "colab_type": "text"
      },
      "source": [
        "<a href=\"https://colab.research.google.com/github/leonardomariano1/back-to-basics/blob/main/Listas_e_tuplas_na_pr%C3%A1tica.ipynb\" target=\"_parent\"><img src=\"https://colab.research.google.com/assets/colab-badge.svg\" alt=\"Open In Colab\"/></a>"
      ]
    },
    {
      "cell_type": "markdown",
      "id": "6b6071ff",
      "metadata": {
        "id": "6b6071ff"
      },
      "source": [
        "# Listas e Tuplas"
      ]
    },
    {
      "cell_type": "code",
      "execution_count": null,
      "id": "40e722f8",
      "metadata": {
        "id": "40e722f8",
        "outputId": "306792f5-f32f-4740-c6f1-cd519c5152ca"
      },
      "outputs": [
        {
          "name": "stdout",
          "output_type": "stream",
          "text": [
            "['Weg', 'Raia drogasil', 'Vale', 'Lojas Renner']\n"
          ]
        }
      ],
      "source": [
        "lista_base = ['Weg', 'Raia drogasil', 'Vale', 'Lojas Renner']\n",
        "lista_base = list(['Weg', 'Raia drogasil', 'Vale', 'Lojas Renner'])\n",
        "\n",
        "print(lista_base)"
      ]
    },
    {
      "cell_type": "code",
      "execution_count": null,
      "id": "db081958",
      "metadata": {
        "id": "db081958"
      },
      "outputs": [],
      "source": [
        "lista_vazia = []\n",
        "lista_tipos_diferentes = ['flamengo', 8, 'campeonatos brasileiros']"
      ]
    },
    {
      "cell_type": "code",
      "execution_count": null,
      "id": "f8e08d08",
      "metadata": {
        "id": "f8e08d08",
        "outputId": "eff1ffe3-52e4-4ca5-f2d3-5fa0466f7830"
      },
      "outputs": [
        {
          "name": "stdout",
          "output_type": "stream",
          "text": [
            "1 2 3 \n",
            "4 5 6 \n",
            "7 8 9 \n"
          ]
        }
      ],
      "source": [
        "lista_dentro_de_lista = [[1, 2, 3], [4, 5, 6], [7, 8, 9]] #matriz 3 x 3\n",
        "\n",
        "for lista in lista_dentro_de_lista:\n",
        "    for item in lista:\n",
        "        print(item, end=' ')\n",
        "    print()"
      ]
    },
    {
      "cell_type": "markdown",
      "id": "9b7a3dc8",
      "metadata": {
        "id": "9b7a3dc8"
      },
      "source": [
        "## Manipulação de listas"
      ]
    },
    {
      "cell_type": "code",
      "execution_count": null,
      "id": "6e9e5a23",
      "metadata": {
        "id": "6e9e5a23",
        "outputId": "6c03b0fe-3436-4c94-8d5d-402a21e5c1bc"
      },
      "outputs": [
        {
          "name": "stdout",
          "output_type": "stream",
          "text": [
            "['compra tudo', 'vende um pouco', 'vende sua casa para comprar', 'compra devagar', 'vende rápido ou vai quebrar', 'compra mais']\n"
          ]
        }
      ],
      "source": [
        "#adicionando novos itens a lista (no final)\n",
        "\n",
        "lista_sinais = []\n",
        "\n",
        "lista_sinais.append('compra tudo')\n",
        "lista_sinais.append('vende um pouco')\n",
        "lista_sinais.append('vende sua casa para comprar')\n",
        "lista_sinais.append('compra devagar')\n",
        "lista_sinais.append('vende rápido ou vai quebrar')\n",
        "lista_sinais.append('compra mais')\n",
        "\n",
        "print(lista_sinais)"
      ]
    },
    {
      "cell_type": "code",
      "execution_count": null,
      "id": "0f12714d",
      "metadata": {
        "id": "0f12714d",
        "outputId": "24d00217-771e-451b-a781-5759f6fdaf20"
      },
      "outputs": [
        {
          "name": "stdout",
          "output_type": "stream",
          "text": [
            "compra tudo\n",
            "vende um pouco\n",
            "compra mais\n",
            "[1, 2, 3]\n",
            "1\n"
          ]
        }
      ],
      "source": [
        "#selecionando elementos na lista\n",
        "\n",
        "print(lista_sinais[0])\n",
        "print(lista_sinais[1])\n",
        "print(lista_sinais[-1])\n",
        "\n",
        "print(lista_dentro_de_lista[0])\n",
        "print(lista_dentro_de_lista[0][0])"
      ]
    },
    {
      "cell_type": "code",
      "execution_count": null,
      "id": "c9969ebd",
      "metadata": {
        "id": "c9969ebd",
        "outputId": "87cbb7b6-7bfb-4c85-bce7-b54da903ae7b"
      },
      "outputs": [
        {
          "name": "stdout",
          "output_type": "stream",
          "text": [
            "['compra tudo', 'vende um pouco']\n",
            "['vende um pouco', 'vende sua casa para comprar', 'compra devagar', 'vende rápido ou vai quebrar', 'compra mais']\n",
            "['compra tudo', 'vende um pouco', 'vende sua casa para comprar']\n",
            "['vende rápido ou vai quebrar', 'compra mais']\n"
          ]
        }
      ],
      "source": [
        "#selecionando vários elementos\n",
        "\n",
        "print(lista_sinais[0:2])\n",
        "print(lista_sinais[1: ])\n",
        "print(lista_sinais[ :3])\n",
        "print(lista_sinais[-2:])\n"
      ]
    },
    {
      "cell_type": "code",
      "execution_count": null,
      "id": "eb4b69e7",
      "metadata": {
        "id": "eb4b69e7",
        "outputId": "4742a3a2-8820-4162-fc52-e8bd9304959c"
      },
      "outputs": [
        {
          "name": "stdout",
          "output_type": "stream",
          "text": [
            "['vende', 'vende um pouco', 'vende sua casa para comprar', 'compra devagar', 'vende rápido ou vai quebrar', 'compra mais']\n"
          ]
        }
      ],
      "source": [
        "#alterando elementos\n",
        "\n",
        "lista_sinais[0] = 'vende'\n",
        "\n",
        "print(lista_sinais)"
      ]
    },
    {
      "cell_type": "code",
      "execution_count": null,
      "id": "a9753700",
      "metadata": {
        "id": "a9753700",
        "outputId": "14ceca19-d42b-4060-c31f-d5308947cc44"
      },
      "outputs": [
        {
          "name": "stdout",
          "output_type": "stream",
          "text": [
            "['vende', 'vende um pouco', 'compra até acabar o caixa', 'vende sua casa para comprar', 'compra devagar', 'vende rápido ou vai quebrar', 'compra mais']\n"
          ]
        }
      ],
      "source": [
        "#inserindo elementos em uma posição escolhida\n",
        "\n",
        "lista_sinais.insert(2, \"compra até acabar o caixa\")\n",
        "\n",
        "print(lista_sinais)\n"
      ]
    },
    {
      "cell_type": "code",
      "execution_count": null,
      "id": "accd2477",
      "metadata": {
        "id": "accd2477",
        "outputId": "74867c8c-8546-40a8-d781-67f1887e34f0"
      },
      "outputs": [
        {
          "name": "stdout",
          "output_type": "stream",
          "text": [
            "['vende', 'vende um pouco', 'vende sua casa para comprar', 'compra devagar', 'vende rápido ou vai quebrar', 'compra mais']\n"
          ]
        }
      ],
      "source": [
        "#remover elementos da lista\n",
        "\n",
        "lista_sinais.remove('compra até acabar o caixa')\n",
        "\n",
        "print(lista_sinais)"
      ]
    },
    {
      "cell_type": "code",
      "execution_count": null,
      "id": "c9fe2835",
      "metadata": {
        "id": "c9fe2835",
        "outputId": "ccb102be-0e48-41bd-9e10-136d7ca46d3a"
      },
      "outputs": [
        {
          "name": "stdout",
          "output_type": "stream",
          "text": [
            "['vende um pouco', 'vende sua casa para comprar', 'compra devagar', 'vende rápido ou vai quebrar', 'compra mais']\n"
          ]
        }
      ],
      "source": [
        "#remove de uma posição específica\n",
        "\n",
        "del lista_sinais[0]\n",
        "\n",
        "print(lista_sinais)"
      ]
    },
    {
      "cell_type": "code",
      "execution_count": null,
      "id": "baed7ecc",
      "metadata": {
        "id": "baed7ecc",
        "outputId": "e4dcdee5-af0a-440c-edd3-4bbd34125af5"
      },
      "outputs": [
        {
          "name": "stdout",
          "output_type": "stream",
          "text": [
            "False True\n"
          ]
        }
      ],
      "source": [
        "#verifica se um elemento está na lista\n",
        "\n",
        "verificando = \"compra tudo\" in lista_sinais\n",
        "\n",
        "verificando2 = \"compra tudo\" not in lista_sinais\n",
        "\n",
        "print(verificando, verificando2)"
      ]
    },
    {
      "cell_type": "code",
      "execution_count": null,
      "id": "6eea6a6f",
      "metadata": {
        "id": "6eea6a6f",
        "outputId": "f107c08d-f04f-4db6-e029-2ae18c0c9ff2"
      },
      "outputs": [
        {
          "name": "stdout",
          "output_type": "stream",
          "text": [
            "[1, 2, 3, 4, 5, 6]\n"
          ]
        }
      ],
      "source": [
        "#junção de listas\n",
        "\n",
        "lista_1 = [1, 2, 3]\n",
        "\n",
        "lista_2 = [4, 5, 6]\n",
        "\n",
        "lista_final = lista_1 + lista_2 #listas não são vetores! isso é feito através do pacote numpy e teremos um módulo só dele\n",
        "\n",
        "print(lista_final)\n"
      ]
    },
    {
      "cell_type": "code",
      "execution_count": null,
      "id": "c5e6eda5",
      "metadata": {
        "id": "c5e6eda5",
        "outputId": "d8a3e8e7-7f63-42ab-ab7e-78d74623714b"
      },
      "outputs": [
        {
          "name": "stdout",
          "output_type": "stream",
          "text": [
            "[1, 23, 45, 56, 75]\n",
            "[75, 56, 45, 23, 1]\n"
          ]
        }
      ],
      "source": [
        "#ordenação em lista\n",
        "\n",
        "lista_desordenada = [56, 45, 1, 75, 23]\n",
        "\n",
        "lista_ordenada_crescente = sorted(lista_desordenada)\n",
        "\n",
        "print(lista_ordenada_crescente)\n",
        "\n",
        "lista_ordenada_decrescente = sorted(lista_desordenada, reverse=True)\n",
        "\n",
        "print(lista_ordenada_decrescente)"
      ]
    },
    {
      "cell_type": "code",
      "execution_count": null,
      "id": "31e2b34f",
      "metadata": {
        "id": "31e2b34f",
        "outputId": "c35c94ef-0de5-4b3a-aa73-efa643bdbc52"
      },
      "outputs": [
        {
          "name": "stdout",
          "output_type": "stream",
          "text": [
            "5\n"
          ]
        }
      ],
      "source": [
        "#extraidno o tamanho de uma lista\n",
        "\n",
        "print(len(lista_desordenada))\n"
      ]
    },
    {
      "cell_type": "code",
      "execution_count": null,
      "id": "14b47614",
      "metadata": {
        "id": "14b47614",
        "outputId": "77ba3b36-5d6d-485d-f376-8c5c5fbacc32"
      },
      "outputs": [
        {
          "name": "stdout",
          "output_type": "stream",
          "text": [
            "75\n",
            "1\n",
            "40.0\n"
          ]
        }
      ],
      "source": [
        "#extraindo valores máximos, mínimos e média de uma lista\n",
        "\n",
        "print(max(lista_desordenada))\n",
        "\n",
        "print(min(lista_desordenada))\n",
        "\n",
        "print(sum(lista_desordenada)/len(lista_desordenada))"
      ]
    },
    {
      "cell_type": "markdown",
      "id": "b97476a3",
      "metadata": {
        "id": "b97476a3"
      },
      "source": [
        "## Tuplas"
      ]
    },
    {
      "cell_type": "code",
      "execution_count": null,
      "id": "eebb6992",
      "metadata": {
        "id": "eebb6992",
        "outputId": "5bb4ea6e-93e5-4bd4-f6f4-b5d69288e54b"
      },
      "outputs": [
        {
          "name": "stdout",
          "output_type": "stream",
          "text": [
            "2\n",
            "3\n",
            "0\n"
          ]
        }
      ],
      "source": [
        "tupla = (2, 3, 5, 2, 2)\n",
        "\n",
        "print(tupla[0])\n",
        "\n",
        "print(tupla.count(2))\n",
        "print(tupla.index(2))"
      ]
    },
    {
      "cell_type": "code",
      "execution_count": null,
      "id": "b768809d",
      "metadata": {
        "id": "b768809d",
        "outputId": "b1cbdda7-6683-418b-b192-025ebf352fad"
      },
      "outputs": [
        {
          "name": "stdout",
          "output_type": "stream",
          "text": [
            "5\n",
            "5\n"
          ]
        }
      ],
      "source": [
        "#medindo o tamanho de uma coleção\n",
        "\n",
        "print(len(lista_desordenada))\n",
        "print(len(tupla))"
      ]
    },
    {
      "cell_type": "markdown",
      "id": "d6769546",
      "metadata": {
        "id": "d6769546"
      },
      "source": [
        "# Desafios\n",
        "\n",
        "* Exercício 11: Peça ao usuário digitar o ticker de 4 empresas no terminal. Escolha, dentre as empresas digitadas, uma empresa pra emitir a recomendação de compra e mostre uma mensagem na tela dizendo sua recomendação.\n",
        "* Exercício 12: Peça ao usuário digitar o preço/lucro de 5 empresas. Devolva uma mensagem dizendo quais são os dois menores P/L da lista."
      ]
    },
    {
      "cell_type": "markdown",
      "source": [
        "# Resolução"
      ],
      "metadata": {
        "id": "2Zxoa7KqGOEs"
      },
      "id": "2Zxoa7KqGOEs"
    },
    {
      "cell_type": "code",
      "execution_count": null,
      "id": "3b5964da",
      "metadata": {
        "id": "3b5964da",
        "outputId": "931bb552-1543-4993-8ddc-cf1651f23840"
      },
      "outputs": [
        {
          "name": "stdout",
          "output_type": "stream",
          "text": [
            "Digite o primeiro ticker: WEGE3\n",
            "Digite o segundo ticker: PETR4\n",
            "Digite o terceiro ticker: VALE3\n",
            "Digite o quarto ticker: PCAR3\n",
            "Nosso algoritmo complexo recomenda a compra da empresa VALE3\n"
          ]
        }
      ],
      "source": [
        "import random\n",
        "\n",
        "lista_empresas = []\n",
        "\n",
        "ticker1 = str(input('Digite o primeiro ticker: '))\n",
        "ticker2 = str(input('Digite o segundo ticker: '))\n",
        "ticker3 = str(input('Digite o terceiro ticker: '))\n",
        "ticker4 = str(input('Digite o quarto ticker: '))\n",
        "\n",
        "lista_empresas.append(ticker1)\n",
        "lista_empresas.append(ticker2)\n",
        "lista_empresas.append(ticker3)\n",
        "lista_empresas.append(ticker4)\n",
        "\n",
        "empresa_escolhida = random.choice(lista_empresas)\n",
        "\n",
        "print(f\"Nosso algoritmo complexo recomenda a compra da empresa {empresa_escolhida}\")"
      ]
    },
    {
      "cell_type": "code",
      "execution_count": null,
      "id": "442af11c",
      "metadata": {
        "id": "442af11c",
        "outputId": "e23d66d3-7d0d-4559-ada6-54010d753192"
      },
      "outputs": [
        {
          "name": "stdout",
          "output_type": "stream",
          "text": [
            "Digite o primeiro pl: 3\n",
            "Digite o segundo pl: 4\n",
            "Digite o terceiro pl: 5\n",
            "Digite o quarto pl: 10\n",
            "Digite o quinto pl: 20\n",
            "O menor P/L da lista é 3 e o segundo menor é 4\n"
          ]
        }
      ],
      "source": [
        "pl1 = int(input('Digite o primeiro pl: '))\n",
        "pl2 = int(input('Digite o segundo pl: '))\n",
        "pl3 = int(input('Digite o terceiro pl: '))\n",
        "pl4 = int(input('Digite o quarto pl: '))\n",
        "pl5 = int(input('Digite o quinto pl: '))\n",
        "\n",
        "lista_pls = [pl1, pl2, pl3, pl4, pl5]\n",
        "\n",
        "ordem_pls = sorted(lista_pls)\n",
        "\n",
        "ordem_pls = ordem_pls[:2]\n",
        "\n",
        "print(f'O menor P/L da lista é {ordem_pls[0]} e o segundo menor é {ordem_pls[1]}')\n"
      ]
    },
    {
      "cell_type": "code",
      "execution_count": null,
      "id": "771719d4",
      "metadata": {
        "id": "771719d4"
      },
      "outputs": [],
      "source": []
    },
    {
      "cell_type": "code",
      "execution_count": null,
      "id": "fbd1f78f",
      "metadata": {
        "id": "fbd1f78f"
      },
      "outputs": [],
      "source": []
    },
    {
      "cell_type": "code",
      "execution_count": null,
      "id": "12e12c89",
      "metadata": {
        "id": "12e12c89"
      },
      "outputs": [],
      "source": []
    },
    {
      "cell_type": "code",
      "execution_count": null,
      "id": "709f9796",
      "metadata": {
        "id": "709f9796"
      },
      "outputs": [],
      "source": []
    }
  ],
  "metadata": {
    "kernelspec": {
      "display_name": "Python 3 (ipykernel)",
      "language": "python",
      "name": "python3"
    },
    "language_info": {
      "codemirror_mode": {
        "name": "ipython",
        "version": 3
      },
      "file_extension": ".py",
      "mimetype": "text/x-python",
      "name": "python",
      "nbconvert_exporter": "python",
      "pygments_lexer": "ipython3",
      "version": "3.9.12"
    },
    "colab": {
      "provenance": [],
      "toc_visible": true,
      "include_colab_link": true
    }
  },
  "nbformat": 4,
  "nbformat_minor": 5
}