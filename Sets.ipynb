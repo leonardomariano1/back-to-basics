{
  "cells": [
    {
      "cell_type": "markdown",
      "metadata": {
        "id": "view-in-github",
        "colab_type": "text"
      },
      "source": [
        "<a href=\"https://colab.research.google.com/github/leonardomariano1/back-to-basics/blob/main/Sets.ipynb\" target=\"_parent\"><img src=\"https://colab.research.google.com/assets/colab-badge.svg\" alt=\"Open In Colab\"/></a>"
      ]
    },
    {
      "cell_type": "markdown",
      "id": "6b6071ff",
      "metadata": {
        "id": "6b6071ff"
      },
      "source": [
        "# Sets"
      ]
    },
    {
      "cell_type": "code",
      "execution_count": null,
      "id": "40e722f8",
      "metadata": {
        "id": "40e722f8"
      },
      "outputs": [],
      "source": [
        "set_teste = {'weg', 'renner', 'c&a', 'SLC agricola'}\n",
        "set_numero = {1, 4, 5, 8}\n",
        "\n",
        "print(set_teste)"
      ]
    },
    {
      "cell_type": "code",
      "execution_count": null,
      "id": "db081958",
      "metadata": {
        "id": "db081958"
      },
      "outputs": [],
      "source": [
        "#remover duplicatas\n",
        "\n",
        "lista_duplicada = ['renner', 'renner', 'weg', 'weg']\n",
        "\n",
        "lista_unica = list(set(lista_duplicada)) #você pode converter listas em sets ou tuplas sem problemas\n",
        "\n",
        "print(lista_unica)"
      ]
    },
    {
      "cell_type": "code",
      "execution_count": null,
      "id": "f8e08d08",
      "metadata": {
        "id": "f8e08d08"
      },
      "outputs": [],
      "source": [
        "#adicionando um ou mais elementos a sets\n",
        "\n",
        "set_numero.add(10)\n",
        "\n",
        "print(set_numero)\n",
        "\n",
        "set_numero.update([20, 25, 60])\n",
        "\n",
        "print(set_numero)"
      ]
    },
    {
      "cell_type": "code",
      "execution_count": null,
      "id": "6e9e5a23",
      "metadata": {
        "id": "6e9e5a23"
      },
      "outputs": [],
      "source": [
        "#removendo elementos\n",
        "\n",
        "set_numero.discard(1)\n",
        "\n",
        "print(set_numero)"
      ]
    },
    {
      "cell_type": "code",
      "execution_count": null,
      "id": "0f12714d",
      "metadata": {
        "id": "0f12714d"
      },
      "outputs": [],
      "source": [
        "#operações matemáticas de união, interseção, diferença\n",
        "\n",
        "\n",
        "meu_set = {1, 2, 3, 5, 8, 9}\n",
        "meu_set_2 = {1, 4, 5, 6, 8, 11, 12}\n"
      ]
    },
    {
      "cell_type": "code",
      "execution_count": null,
      "id": "c9969ebd",
      "metadata": {
        "id": "c9969ebd",
        "outputId": "74b9ade9-92f8-4575-9502-1b41f3af4598"
      },
      "outputs": [
        {
          "name": "stdout",
          "output_type": "stream",
          "text": [
            "{1, 2, 3, 4, 5, 6, 8, 9, 11, 12}\n",
            "{1, 2, 3, 4, 5, 6, 8, 9, 11, 12}\n"
          ]
        }
      ],
      "source": [
        "#União\n",
        "\n",
        "uniao = meu_set | meu_set_2\n",
        "\n",
        "print(uniao)\n",
        "print(meu_set.union(meu_set_2))\n"
      ]
    },
    {
      "cell_type": "code",
      "execution_count": null,
      "id": "db9c7b5d",
      "metadata": {
        "id": "db9c7b5d",
        "outputId": "0b060429-49b6-442c-8848-7abc2ebb4d0c"
      },
      "outputs": [
        {
          "name": "stdout",
          "output_type": "stream",
          "text": [
            "{8, 1, 5}\n",
            "{8, 1, 5}\n"
          ]
        }
      ],
      "source": [
        "#Interseção - Tem que estar nos dois ao mesmo tempo\n",
        "\n",
        "print(meu_set & meu_set_2)\n",
        "print(meu_set.intersection(meu_set_2))"
      ]
    },
    {
      "cell_type": "code",
      "execution_count": null,
      "id": "a21f05ce",
      "metadata": {
        "id": "a21f05ce",
        "outputId": "710f1868-ca1c-438f-81a0-5e6873c6bc0d"
      },
      "outputs": [
        {
          "name": "stdout",
          "output_type": "stream",
          "text": [
            "{9, 2, 3}\n",
            "{9, 2, 3}\n"
          ]
        }
      ],
      "source": [
        "#Diferença - só pode estar presente no set 1\n",
        "\n",
        "print(meu_set - meu_set_2)\n",
        "print(meu_set.difference(meu_set_2))"
      ]
    },
    {
      "cell_type": "markdown",
      "id": "d6769546",
      "metadata": {
        "id": "d6769546"
      },
      "source": [
        "# Desafios\n",
        "\n",
        "* Exercício 13: Crie um programa que receba o nome do usuário, dê boas vindas e colete as informações de 2 carteiras de investimentos com 3 nomes de empresas cada. Devolva pro usuário a interceção entre as carteiras de investimento, a difereça e a união entre elas.\n"
      ]
    },
    {
      "cell_type": "code",
      "source": [
        "nome = input('Como se chama? ')\n",
        "print(f'''Olá {nome}, seja bem-vindo!\n",
        "Agora forneça o nome de três empresas, por favor.''')\n",
        "\n",
        "emp1= input('Digite o nome da 1ª emoresas: ')\n",
        "emp2= input('Digite o nome da 2ª emoresas: ')\n",
        "emp3= input('Digite o nome da 3ª emoresas: ')\n",
        "carteira1 = set([emp1, emp2, emp3])\n",
        "\n",
        "print(f'Forneça o nome de mais três.')\n",
        "emp4= input('Digite o nome da 4ª emoresas: ')\n",
        "emp5= input('Digite o nome da 5ª emoresas: ')\n",
        "emp6= input('Digite o nome da 6ª emoresas: ')\n",
        "carteira2 = set([emp4, emp5, emp6])\n",
        "\n",
        "uniao = carteira1 | carteira2\n",
        "interseccao = carteira1 & carteira2\n",
        "diferenca = carteira1 - carteira2\n",
        "\n",
        "print(f'A união entre as duas cartiras {uniao}, a intersecção {interseccao} e a diferença {diferenca}.')\n",
        "\n"
      ],
      "metadata": {
        "colab": {
          "base_uri": "https://localhost:8080/"
        },
        "id": "k7_k1Hf3OavD",
        "outputId": "2e2456dc-8241-4696-de2f-8e19577b4e06"
      },
      "id": "k7_k1Hf3OavD",
      "execution_count": null,
      "outputs": [
        {
          "output_type": "stream",
          "name": "stdout",
          "text": [
            "Como se chama? leo\n",
            "Olá leo, seja bem-vindo!\n",
            "Agora forneça o nome de três empresas, por favor.\n",
            "Digite o nome da 1ª emoresas: ITAU\n",
            "Digite o nome da 2ª emoresas: WEG\n",
            "Digite o nome da 3ª emoresas: PETROBRAS\n",
            "Forneça o nome de mais três.\n",
            "Digite o nome da 4ª emoresas: WEG\n",
            "Digite o nome da 5ª emoresas: RENNER\n",
            "Digite o nome da 6ª emoresas: SLG\n",
            "A união entre as duas cartiras {'WEG', 'ITAU', 'SLG', 'PETROBRAS', 'RENNER'}, a intersecção {'WEG'} e a diferença {'ITAU', 'PETROBRAS'}.\n"
          ]
        }
      ]
    },
    {
      "cell_type": "markdown",
      "source": [
        "# Resolução"
      ],
      "metadata": {
        "id": "rs2jL9-bOUkt"
      },
      "id": "rs2jL9-bOUkt"
    },
    {
      "cell_type": "code",
      "execution_count": null,
      "id": "3b5964da",
      "metadata": {
        "scrolled": true,
        "id": "3b5964da",
        "outputId": "2132275e-d60b-45e7-8ccf-bf78fcd9e385"
      },
      "outputs": [
        {
          "name": "stdout",
          "output_type": "stream",
          "text": [
            "Digite seu nome: Brenno\n",
            "Olá Brenno, como você está?\n",
            "Estamos coletando informações de duas carteiras de investimento diferentes. \n",
            " Poderia nos ajudar fornecendo o nome de 3 empresas?\n",
            "Digite o nome de uma empresa: Vale\n",
            "Digite o nome de uma empresa: Petrobras\n",
            "Digite o nome de uma empresa: Weg\n",
            "Obrigado pelas informações! Poderia nos fornecer dados de mais 3 empresas?\n",
            "Digite o nome de uma empresa: Vale\n",
            "Digite o nome de uma empresa: Weg\n",
            "Digite o nome de uma empresa: Lojas Renner\n",
            "Ótimo, agora nós podemos fornecer as informações necessárias.\n",
            "A diferença entre a carteira 1 e 2 são as ações {'Petrobras'}\n",
            "A interseção entre a carteira 1 e 2 são as ações {'Vale', 'Weg'}\n",
            "A união entre a carteira 1 e 2 são as ações {'Petrobras', 'Vale', 'Lojas Renner', 'Weg'}\n"
          ]
        }
      ],
      "source": [
        "nome = str(input('Digite seu nome: '))\n",
        "\n",
        "print(f'Olá {nome}, como você está?')\n",
        "print('Estamos coletando informações de duas carteiras de investimento diferentes. \\n Poderia nos ajudar fornecendo o nome de 3 empresas?')\n",
        "\n",
        "empresa1_carteira_1 = str(input('Digite o nome de uma empresa: '))\n",
        "empresa2_carteira_1 = str(input('Digite o nome de uma empresa: '))\n",
        "empresa3_carteira_1 = str(input('Digite o nome de uma empresa: '))\n",
        "\n",
        "set_carteira_1 = {empresa1_carteira_1, empresa2_carteira_1, empresa3_carteira_1}\n",
        "\n",
        "print('Obrigado pelas informações! Poderia nos fornecer dados de mais 3 empresas?')\n",
        "\n",
        "\n",
        "empresa1_carteira_2 = str(input('Digite o nome de uma empresa: '))\n",
        "empresa2_carteira_2 = str(input('Digite o nome de uma empresa: '))\n",
        "empresa3_carteira_2 = str(input('Digite o nome de uma empresa: '))\n",
        "\n",
        "set_carteira_2 = {empresa1_carteira_2, empresa2_carteira_2, empresa3_carteira_2}\n",
        "\n",
        "print(\"Ótimo, agora nós podemos fornecer as informações necessárias.\")\n",
        "\n",
        "diferenca = set_carteira_1 - set_carteira_2\n",
        "\n",
        "intersecao = set_carteira_1 & set_carteira_2\n",
        "\n",
        "uniao = set_carteira_1 | set_carteira_2\n",
        "\n",
        "\n",
        "print(f\"A diferença entre a carteira 1 e 2 são as ações {diferenca}\")\n",
        "\n",
        "print(f\"A interseção entre a carteira 1 e 2 são as ações {intersecao}\")\n",
        "\n",
        "print(f\"A união entre a carteira 1 e 2 são as ações {uniao}\")"
      ]
    },
    {
      "cell_type": "code",
      "execution_count": null,
      "id": "771719d4",
      "metadata": {
        "id": "771719d4"
      },
      "outputs": [],
      "source": []
    },
    {
      "cell_type": "code",
      "execution_count": null,
      "id": "fbd1f78f",
      "metadata": {
        "id": "fbd1f78f"
      },
      "outputs": [],
      "source": []
    },
    {
      "cell_type": "code",
      "execution_count": null,
      "id": "12e12c89",
      "metadata": {
        "id": "12e12c89"
      },
      "outputs": [],
      "source": []
    },
    {
      "cell_type": "code",
      "execution_count": null,
      "id": "709f9796",
      "metadata": {
        "id": "709f9796"
      },
      "outputs": [],
      "source": []
    }
  ],
  "metadata": {
    "kernelspec": {
      "display_name": "Python 3 (ipykernel)",
      "language": "python",
      "name": "python3"
    },
    "language_info": {
      "codemirror_mode": {
        "name": "ipython",
        "version": 3
      },
      "file_extension": ".py",
      "mimetype": "text/x-python",
      "name": "python",
      "nbconvert_exporter": "python",
      "pygments_lexer": "ipython3",
      "version": "3.9.12"
    },
    "colab": {
      "provenance": [],
      "include_colab_link": true
    }
  },
  "nbformat": 4,
  "nbformat_minor": 5
}