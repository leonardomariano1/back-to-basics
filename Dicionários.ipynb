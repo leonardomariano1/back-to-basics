{
  "cells": [
    {
      "cell_type": "markdown",
      "metadata": {
        "id": "view-in-github",
        "colab_type": "text"
      },
      "source": [
        "<a href=\"https://colab.research.google.com/github/leonardomariano1/back-to-basics/blob/main/Dicion%C3%A1rios.ipynb\" target=\"_parent\"><img src=\"https://colab.research.google.com/assets/colab-badge.svg\" alt=\"Open In Colab\"/></a>"
      ]
    },
    {
      "cell_type": "markdown",
      "id": "6b6071ff",
      "metadata": {
        "id": "6b6071ff"
      },
      "source": [
        "# Dicionários"
      ]
    },
    {
      "cell_type": "code",
      "execution_count": null,
      "id": "40e722f8",
      "metadata": {
        "id": "40e722f8"
      },
      "outputs": [],
      "source": [
        "#criar dicionários\n",
        "\n",
        "dicionario_vazio = {}\n",
        "\n",
        "dicionario_povoado = dict({'nome': 'brenno', 'sobrenome': 'sullivan'})\n",
        "\n",
        "dicionario_numerico = {1: 'brenno', 2: 'lucas', 3: 'leandro'} #pódio\n",
        "\n",
        "dicionario_com_listas = {'empresas_novo_mercado':['Weg', 'Renner', 'Vale'],\n",
        "                         'empresas_em_outros_segmentos': ['Petrobras', 'Alpargatas']}\n",
        "\n",
        "dicionario_empresas_na_carteira = {True: ['Pão de Açucar', 'Weg'],\n",
        "                                False: ['Lojas Renner', 'Guararapes']}"
      ]
    },
    {
      "cell_type": "code",
      "execution_count": null,
      "id": "db081958",
      "metadata": {
        "id": "db081958",
        "outputId": "c913be71-0546-4f64-bcb0-0a4413b8c5af"
      },
      "outputs": [
        {
          "name": "stdout",
          "output_type": "stream",
          "text": [
            "lucas\n",
            "lucas\n",
            "brenno\n",
            "['Weg', 'Renner', 'Vale']\n",
            "Weg\n"
          ]
        }
      ],
      "source": [
        "#pegando itens dentro dos dicionários\n",
        "\n",
        "print(dicionario_numerico[2])\n",
        "\n",
        "print(dicionario_numerico.get(2))\n",
        "\n",
        "print(dicionario_povoado.get('nome'))\n",
        "\n",
        "print(dicionario_com_listas['empresas_novo_mercado'])\n",
        "\n",
        "print(dicionario_com_listas['empresas_novo_mercado'][0])"
      ]
    },
    {
      "cell_type": "code",
      "execution_count": null,
      "id": "f8e08d08",
      "metadata": {
        "id": "f8e08d08",
        "outputId": "162f8b7c-4dc5-4c37-a3f4-644f1cfd1b65"
      },
      "outputs": [
        {
          "name": "stdout",
          "output_type": "stream",
          "text": [
            "{'Curso': 'Codigo.py', 'Galaxia': 2, 'Mundo': 13}\n"
          ]
        }
      ],
      "source": [
        "#adicionar elementos em um dicionário\n",
        "\n",
        "dicionario_vazio['Curso'] = 'Codigo.py'\n",
        "\n",
        "dicionario_vazio.update({'Galaxia': 2, 'Mundo': 13})\n",
        "\n",
        "print(dicionario_vazio)"
      ]
    },
    {
      "cell_type": "code",
      "execution_count": null,
      "id": "6e9e5a23",
      "metadata": {
        "id": "6e9e5a23",
        "outputId": "a5e171d9-e110-46de-90a0-9a810d978f3c"
      },
      "outputs": [
        {
          "name": "stdout",
          "output_type": "stream",
          "text": [
            "{'Galaxia': 2, 'Mundo': 13}\n"
          ]
        }
      ],
      "source": [
        "#removendo dados de um dicionário\n",
        "\n",
        "dicionario_vazio.pop('Curso')\n",
        "\n",
        "print(dicionario_vazio)"
      ]
    },
    {
      "cell_type": "code",
      "execution_count": null,
      "id": "0f12714d",
      "metadata": {
        "id": "0f12714d",
        "outputId": "3469f3f3-da3b-4667-bda0-533a2ff65f71"
      },
      "outputs": [
        {
          "name": "stdout",
          "output_type": "stream",
          "text": [
            "            WEGE3  PCAR3\n",
            "2022-07-05  50.10  20.05\n",
            "2022-07-06  49.09  19.06\n",
            "2022-07-07  30.06  21.39\n"
          ]
        }
      ],
      "source": [
        "#aplicabilidades dicionários\n",
        "\n",
        "import pandas as pd\n",
        "\n",
        "#tabela de cotações\n",
        "\n",
        "dicionario_cotacoes = {'WEGE3': [50.10, 49.09, 30.06],\n",
        "                        'PCAR3': [20.05, 19.06, 21.39]}\n",
        "\n",
        "tabela_cotacoes = pd.DataFrame(data = dicionario_cotacoes,\n",
        "                                index=pd.date_range(start=\"2022-07-05\", end=\"2022-07-07\"))\n",
        "\n",
        "print(tabela_cotacoes)\n"
      ]
    },
    {
      "cell_type": "code",
      "execution_count": null,
      "id": "c9969ebd",
      "metadata": {
        "id": "c9969ebd",
        "outputId": "c0c1601b-e3e0-4acd-c797-2459011be781"
      },
      "outputs": [
        {
          "name": "stdout",
          "output_type": "stream",
          "text": [
            "Novo mercado\n"
          ]
        }
      ],
      "source": [
        "#características de um objeto\n",
        "\n",
        "\n",
        "weg = {'Nome': 'Weg', 'Segmento de listagem': \"Novo mercado\",\n",
        "                \"Somente ações ON\": True, \"Conselho majoritariamente independente\": True}\n",
        "\n",
        "\n",
        "print(weg['Segmento de listagem'])\n"
      ]
    },
    {
      "cell_type": "code",
      "execution_count": null,
      "id": "2b3c761a",
      "metadata": {
        "id": "2b3c761a",
        "outputId": "eb653e64-f0d3-4e44-fa3c-2988882a69aa"
      },
      "outputs": [
        {
          "name": "stdout",
          "output_type": "stream",
          "text": [
            "Panteira negra\n"
          ]
        }
      ],
      "source": [
        "#catalagos de filmes\n",
        "\n",
        "dicionario_marvel = {'Filme': \"Panteira negra\", \"Data estreia\": \"2018-02-15\",\n",
        "                    'Bilheteria (Em bilhões US$)': 1.34, 'Ator principal': 'Chadwick Boseman'}\n",
        "\n",
        "print(dicionario_marvel['Filme'])"
      ]
    },
    {
      "cell_type": "markdown",
      "id": "d6769546",
      "metadata": {
        "id": "d6769546"
      },
      "source": [
        "# Desafios\n",
        "\n",
        "* Exercício 14: Crie um dicionário sobre as características de uma empresa a sua escolha. As chaves deverão ser as informações nome, cnpj, códigos de negociação, ano de fundação, qual segmento de listagem da empresa, P/L e ROE.\n",
        "\n",
        "* Exercício 15: Com o dicionário do exercício anterior, crie um programa que informe ao usuário qual empresa está sendo estudada, os indicadores da empresa e o segmento de listagem e, em seguida, peça ao usuário para digitar se ele é compraria ou não a empresa. Adicione essas características ao dicionário original.\n"
      ]
    },
    {
      "cell_type": "code",
      "source": [],
      "metadata": {
        "id": "G-5bqDDIgTHR"
      },
      "id": "G-5bqDDIgTHR",
      "execution_count": null,
      "outputs": []
    },
    {
      "cell_type": "markdown",
      "source": [
        "# Resolução"
      ],
      "metadata": {
        "id": "YaBxc0XSgPfv"
      },
      "id": "YaBxc0XSgPfv"
    },
    {
      "cell_type": "code",
      "execution_count": null,
      "id": "3b5964da",
      "metadata": {
        "id": "3b5964da"
      },
      "outputs": [],
      "source": [
        "weg = {'Nome': \"Wege\", \"CNPJ\": \"84.429.695/0001-11\", 'Ticker': \"WEGE3\",\n",
        "        'Ano fundação': 1961, 'Segmento de listagem': 'Novo Mercado', 'P/L': 30,\n",
        "        'ROE': 0.20}\n"
      ]
    },
    {
      "cell_type": "code",
      "execution_count": null,
      "id": "a0b24843",
      "metadata": {
        "scrolled": true,
        "id": "a0b24843",
        "outputId": "9b985c16-2c3a-4aa7-98ec-614fece4047d"
      },
      "outputs": [
        {
          "name": "stdout",
          "output_type": "stream",
          "text": [
            "Olá! Seja muito bem vindo ao programa que fará a análise fundamentalista \n",
            "        mais lixo que pode ser feita: a análise por indicadores!\n",
            "Nós decidimos apresentar alguns dados da Weg para você e, \n",
            "      somente com essas informações superficiais, você terá que decidir se compra ou vende, ok?\n",
            "O P/L da empresa é 30 e o ROE é 0.2. Baseado nesse dados, \n",
            "      digite \"compra\" ou \"venda\" para comprar ou vender a empresa no questionário abaixo.\n",
            "Digite sua resposta: compra\n",
            "{'Nome': 'Wege', 'CNPJ': '84.429.695/0001-11', 'Ticker': 'WEGE3', 'Ano fundação': 1961, 'Segmento de listagem': 'Novo Mercado', 'P/L': 30, 'ROE': 0.2, 'Decisão usuário': 'compra'}\n"
          ]
        }
      ],
      "source": [
        "import time\n",
        "\n",
        "print('''Olá! Seja muito bem vindo ao programa que fará a análise fundamentalista\n",
        "        mais lixo que pode ser feita: a análise por indicadores!''')\n",
        "\n",
        "time.sleep(5)\n",
        "\n",
        "print('''Nós decidimos apresentar alguns dados da Weg para você e,\n",
        "      somente com essas informações superficiais, você terá que decidir se compra ou vende, ok?''')\n",
        "\n",
        "time.sleep(5)\n",
        "\n",
        "pl = weg['P/L']\n",
        "roe = weg['ROE']\n",
        "\n",
        "print(f'''O P/L da empresa é {pl} e o ROE é {roe}. Baseado nesse dados,\n",
        "      digite \"compra\" ou \"venda\" para comprar ou vender a empresa no questionário abaixo.''')\n",
        "\n",
        "time.sleep(5)\n",
        "\n",
        "compra_ou_venda = input(\"Digite sua resposta: \")\n",
        "\n",
        "\n",
        "weg['Decisão usuário'] = compra_ou_venda\n",
        "\n",
        "print(weg)"
      ]
    },
    {
      "cell_type": "code",
      "execution_count": null,
      "id": "771719d4",
      "metadata": {
        "id": "771719d4"
      },
      "outputs": [],
      "source": []
    },
    {
      "cell_type": "code",
      "execution_count": null,
      "id": "fbd1f78f",
      "metadata": {
        "id": "fbd1f78f"
      },
      "outputs": [],
      "source": []
    },
    {
      "cell_type": "code",
      "execution_count": null,
      "id": "12e12c89",
      "metadata": {
        "id": "12e12c89"
      },
      "outputs": [],
      "source": []
    },
    {
      "cell_type": "code",
      "execution_count": null,
      "id": "709f9796",
      "metadata": {
        "id": "709f9796"
      },
      "outputs": [],
      "source": []
    }
  ],
  "metadata": {
    "kernelspec": {
      "display_name": "Python 3 (ipykernel)",
      "language": "python",
      "name": "python3"
    },
    "language_info": {
      "codemirror_mode": {
        "name": "ipython",
        "version": 3
      },
      "file_extension": ".py",
      "mimetype": "text/x-python",
      "name": "python",
      "nbconvert_exporter": "python",
      "pygments_lexer": "ipython3",
      "version": "3.9.12"
    },
    "colab": {
      "provenance": [],
      "include_colab_link": true
    }
  },
  "nbformat": 4,
  "nbformat_minor": 5
}