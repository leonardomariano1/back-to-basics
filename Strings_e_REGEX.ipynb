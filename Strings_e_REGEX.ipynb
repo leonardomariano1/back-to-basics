{
  "cells": [
    {
      "cell_type": "markdown",
      "metadata": {
        "id": "view-in-github",
        "colab_type": "text"
      },
      "source": [
        "<a href=\"https://colab.research.google.com/github/leonardomariano1/back-to-basics/blob/main/Strings_e_REGEX.ipynb\" target=\"_parent\"><img src=\"https://colab.research.google.com/assets/colab-badge.svg\" alt=\"Open In Colab\"/></a>"
      ]
    },
    {
      "cell_type": "markdown",
      "id": "6b6071ff",
      "metadata": {
        "id": "6b6071ff"
      },
      "source": [
        "# Strings e REGEX"
      ]
    },
    {
      "cell_type": "code",
      "execution_count": null,
      "id": "40e722f8",
      "metadata": {
        "id": "40e722f8"
      },
      "outputs": [],
      "source": [
        "import re"
      ]
    },
    {
      "cell_type": "code",
      "execution_count": null,
      "id": "db081958",
      "metadata": {
        "id": "db081958"
      },
      "outputs": [],
      "source": [
        "texto = 'esse é o curso código.py'"
      ]
    },
    {
      "cell_type": "code",
      "execution_count": null,
      "id": "f8e08d08",
      "metadata": {
        "id": "f8e08d08",
        "outputId": "88a2208c-44b3-477a-93da-95d0b23ee977"
      },
      "outputs": [
        {
          "name": "stdout",
          "output_type": "stream",
          "text": [
            "24\n"
          ]
        }
      ],
      "source": [
        "#tamanho do texto\n",
        "\n",
        "print(len(texto))"
      ]
    },
    {
      "cell_type": "code",
      "execution_count": null,
      "id": "6e9e5a23",
      "metadata": {
        "id": "6e9e5a23",
        "outputId": "e5651d00-7d8a-4e3b-f0c0-a6a210371b56"
      },
      "outputs": [
        {
          "name": "stdout",
          "output_type": "stream",
          "text": [
            "esse é o curso código.py e eu sou um ótimo aluno!\n"
          ]
        }
      ],
      "source": [
        "#juntando strings\n",
        "\n",
        "print(texto + \" e eu sou um ótimo aluno!\")"
      ]
    },
    {
      "cell_type": "code",
      "execution_count": null,
      "id": "0f12714d",
      "metadata": {
        "id": "0f12714d",
        "outputId": "b753b211-1079-4d83-ceda-027f4f433c55"
      },
      "outputs": [
        {
          "name": "stdout",
          "output_type": "stream",
          "text": [
            "esse é o curso Código.py 2.0\n"
          ]
        }
      ],
      "source": [
        "#substituindo texto\n",
        "\n",
        "texto_novo = texto.replace(\"código.py\", \"Código.py 2.0\")\n",
        "print(texto_novo)"
      ]
    },
    {
      "cell_type": "code",
      "execution_count": null,
      "id": "c9969ebd",
      "metadata": {
        "id": "c9969ebd",
        "outputId": "2080a8fb-bb2f-44df-9ab8-5d05a7bb4e7c"
      },
      "outputs": [
        {
          "name": "stdout",
          "output_type": "stream",
          "text": [
            "1\n"
          ]
        }
      ],
      "source": [
        "#contagem\n",
        "\n",
        "print(texto.count('curso'))"
      ]
    },
    {
      "cell_type": "code",
      "execution_count": null,
      "id": "b2c8a5e9",
      "metadata": {
        "id": "b2c8a5e9",
        "outputId": "d723a114-3259-4eb1-adfe-a0f626f15955"
      },
      "outputs": [
        {
          "name": "stdout",
          "output_type": "stream",
          "text": [
            "False\n"
          ]
        }
      ],
      "source": [
        "#a string começa com \"esse?\"\n",
        "\n",
        "print(texto.startswith(\"curso\")) #pegar todos os códigos de negociação de uma empresa"
      ]
    },
    {
      "cell_type": "code",
      "execution_count": null,
      "id": "9ae7afca",
      "metadata": {
        "id": "9ae7afca",
        "outputId": "9f615244-3c16-4034-f094-3a3f8b707368"
      },
      "outputs": [
        {
          "name": "stdout",
          "output_type": "stream",
          "text": [
            "False\n"
          ]
        }
      ],
      "source": [
        "#a string termina com python?\n",
        "\n",
        "print(texto.endswith(\"python\")) #pode ser útil pra achar um código de negociação ON ou PN"
      ]
    },
    {
      "cell_type": "code",
      "execution_count": null,
      "id": "32ebf446",
      "metadata": {
        "id": "32ebf446",
        "outputId": "aae09fdf-05bf-408e-af85-4d7bb9805c74"
      },
      "outputs": [
        {
          "name": "stdout",
          "output_type": "stream",
          "text": [
            "e\n",
            "esse\n",
            "y\n",
            " é o curso código.py\n"
          ]
        }
      ],
      "source": [
        "#selecionando strings\n",
        "\n",
        "print(texto[0])\n",
        "print(texto[0:4])\n",
        "print(texto[-1])\n",
        "print(texto[4:])\n",
        "\n",
        "texto = 'esse é o curso código.py'"
      ]
    },
    {
      "cell_type": "code",
      "execution_count": null,
      "id": "02261575",
      "metadata": {
        "id": "02261575",
        "outputId": "400980a7-74af-421f-9bb1-8ae0af9b15d5"
      },
      "outputs": [
        {
          "name": "stdout",
          "output_type": "stream",
          "text": [
            "ESSE É O CURSO CÓDIGO.PY\n",
            "esse é o curso código.py\n",
            "Esse É O Curso Código.Py\n",
            "False\n",
            "True\n"
          ]
        }
      ],
      "source": [
        "#letras maísculas\n",
        "\n",
        "print(texto.upper())\n",
        "print(texto.lower())\n",
        "print(texto.title())\n",
        "\n",
        "texto_1 = \"Python\"\n",
        "\n",
        "texto_2 = 'python'\n",
        "\n",
        "print(texto_1 == texto_2)\n",
        "\n",
        "print(texto_1 == texto_2.title())"
      ]
    },
    {
      "cell_type": "code",
      "execution_count": null,
      "id": "fdc3a052",
      "metadata": {
        "id": "fdc3a052",
        "outputId": "db99560c-45da-4dad-d9c8-5fa2f5bdd517"
      },
      "outputs": [
        {
          "name": "stdout",
          "output_type": "stream",
          "text": [
            "['bren23940829nolima@gmail.com', 'lucasvgm@hotmail.com', 'leandropaulo@yahoo.com.br']\n"
          ]
        }
      ],
      "source": [
        "bloco_texto = ''' brenno bren23940829nolima@gmail.com lucas lucasvgm@hotmail.com\n",
        "                    leandro leandropaulo@yahoo.com.br'''\n",
        "\n",
        "padrao = r'[A-Z0-9._%+-]+@[A-Z0-9.-]+\\.[A-Z]{2,4}'\n",
        "\n",
        "expressao_regular = re.compile(padrao, flags=re.IGNORECASE)\n",
        "\n",
        "print(expressao_regular.findall(bloco_texto))"
      ]
    },
    {
      "cell_type": "code",
      "execution_count": null,
      "id": "6f852946",
      "metadata": {
        "id": "6f852946",
        "outputId": "6901c991-ff81-4af8-9ea9-2f6a4f8ce255"
      },
      "outputs": [
        {
          "name": "stdout",
          "output_type": "stream",
          "text": [
            "Digite seu e-mail: brennopfieajiwefjiw12903123@gmail.com\n",
            "Seu e-mail é valido\n"
          ]
        },
        {
          "data": {
            "text/plain": [
              "'lembrando que validação é só em termos de estrutura, se o email existe ou não só da \\npra saber com dupla verificação!\\n\\nNão quero entrar muito a fundo nisso pq vc lida muito pouco com isso no dia a dia de \\nanalise financeira no python e 99% das vezes você vai achar o regex que você precisa no google.\\nNinguém sabe regex de cabeça.\\n\\nRegex é mais pra quando tem usuário interagindo com o sistema. '"
            ]
          },
          "execution_count": 14,
          "metadata": {},
          "output_type": "execute_result"
        }
      ],
      "source": [
        "#validar email\n",
        "\n",
        "email = str(input(\"Digite seu e-mail: \"))\n",
        "\n",
        "if re.fullmatch(expressao_regular, email):\n",
        "\n",
        "    print(\"Seu e-mail é valido\")\n",
        "\n",
        "else:\n",
        "\n",
        "    print(\"E-mail inválido\")\n",
        "\n",
        "'''lembrando que validação é só em termos de estrutura, se o email existe ou não só da\n",
        "pra saber com dupla verificação!\n",
        "\n",
        "Não quero entrar muito a fundo nisso pq vc lida muito pouco com isso no dia a dia de\n",
        "analise financeira no python e 99% das vezes você vai achar o regex que você precisa no google.\n",
        "Ninguém sabe regex de cabeça.\n",
        "\n",
        "Regex é mais pra quando tem usuário interagindo com o sistema. '''"
      ]
    },
    {
      "cell_type": "markdown",
      "id": "d6769546",
      "metadata": {
        "id": "d6769546"
      },
      "source": [
        "# Desafios\n",
        "\n",
        "* Exercício 16: Crie um programa que leia o nome da empresa fornecida pelo usuário e retorne as seguintes informações:\n",
        "    - A primeira letra da empresa\n",
        "    - A última letra da empresa\n",
        "    - O tamanho da palavra que compõe o nome da empresa\n",
        "    - O nome da empresa em letra maiúscula\n",
        "    - O nome da empresa com a primeira letra maiúscula\n",
        "    - O nome da empresa com as 2 primeiras letras da empresa substituido por \"tranqueira\"\n",
        "   \n",
        "* Exercício 17: Crie um programa que faça validação de telefone fixo ou celular. O usuário deve digitar seu telefone, com DDD, seja ele fixo ou móvel e receber uma mensagem de telefone válido ou inválido. Dica: use o google para achar o REGEX de telefone!"
      ]
    },
    {
      "cell_type": "code",
      "source": [],
      "metadata": {
        "id": "-w9Bgbupm1AW"
      },
      "id": "-w9Bgbupm1AW",
      "execution_count": null,
      "outputs": []
    },
    {
      "cell_type": "markdown",
      "source": [
        "# Resolução"
      ],
      "metadata": {
        "id": "3YfYBykMmxa5"
      },
      "id": "3YfYBykMmxa5"
    },
    {
      "cell_type": "code",
      "execution_count": null,
      "id": "3b5964da",
      "metadata": {
        "id": "3b5964da",
        "outputId": "3ea2c8f8-2252-4325-8dc2-5f6b85497fd0"
      },
      "outputs": [
        {
          "name": "stdout",
          "output_type": "stream",
          "text": [
            "Digite o nome de uma empresa: Vale\n",
            "A primeira letra da empresa é V\n",
            "A última letra da empresa é e\n",
            "O tamanho do nome da empresa é 4\n",
            "A empresa em caps lock é VALE\n",
            "A empresa com a primeira maíscula é Vale\n",
            "Sua tranqueira favorita: Tranqueirale\n"
          ]
        }
      ],
      "source": [
        "empresa = str(input('Digite o nome de uma empresa: '))\n",
        "\n",
        "print(f'A primeira letra da empresa é {empresa[0]}')\n",
        "print(f'A última letra da empresa é {empresa[-1]}')\n",
        "print(f'O tamanho do nome da empresa é {len(empresa)}')\n",
        "print(f'A empresa em caps lock é {empresa.upper()}')\n",
        "print(f'A empresa com a primeira maíscula é {empresa.title()}')\n",
        "\n",
        "primeiras_duas_letras = empresa[0:2]\n",
        "empresa_tranqueira = empresa.replace(primeiras_duas_letras, 'Tranqueira')\n",
        "\n",
        "print(f'Sua tranqueira favorita: {empresa_tranqueira}')"
      ]
    },
    {
      "cell_type": "code",
      "execution_count": null,
      "id": "442af11c",
      "metadata": {
        "id": "442af11c",
        "outputId": "ddb36994-831a-45d2-9851-7b4034343dbe"
      },
      "outputs": [
        {
          "name": "stdout",
          "output_type": "stream",
          "text": [
            "Digite seu telefone: 21945678941\n",
            "Seu telefone é valido\n"
          ]
        }
      ],
      "source": [
        "padrao = r'^\\(?[1-9]{2}\\)? ?(?:[2-8]|9[1-9])[0-9]{3}\\-?[0-9]{4}$'\n",
        "\n",
        "padrao_telefone = re.compile(padrao)\n",
        "\n",
        "telefone = str(input(\"Digite seu telefone: \"))\n",
        "\n",
        "if re.fullmatch(padrao_telefone, telefone):\n",
        "\n",
        "    print(\"Seu telefone é valido\")\n",
        "\n",
        "else:\n",
        "\n",
        "    print(\"Telefone inválido\")\n"
      ]
    },
    {
      "cell_type": "code",
      "execution_count": null,
      "id": "771719d4",
      "metadata": {
        "id": "771719d4"
      },
      "outputs": [],
      "source": []
    },
    {
      "cell_type": "code",
      "execution_count": null,
      "id": "fbd1f78f",
      "metadata": {
        "id": "fbd1f78f"
      },
      "outputs": [],
      "source": []
    },
    {
      "cell_type": "code",
      "execution_count": null,
      "id": "12e12c89",
      "metadata": {
        "id": "12e12c89"
      },
      "outputs": [],
      "source": []
    },
    {
      "cell_type": "code",
      "execution_count": null,
      "id": "709f9796",
      "metadata": {
        "id": "709f9796"
      },
      "outputs": [],
      "source": []
    }
  ],
  "metadata": {
    "kernelspec": {
      "display_name": "Python 3 (ipykernel)",
      "language": "python",
      "name": "python3"
    },
    "language_info": {
      "codemirror_mode": {
        "name": "ipython",
        "version": 3
      },
      "file_extension": ".py",
      "mimetype": "text/x-python",
      "name": "python",
      "nbconvert_exporter": "python",
      "pygments_lexer": "ipython3",
      "version": "3.9.12"
    },
    "colab": {
      "provenance": [],
      "include_colab_link": true
    }
  },
  "nbformat": 4,
  "nbformat_minor": 5
}